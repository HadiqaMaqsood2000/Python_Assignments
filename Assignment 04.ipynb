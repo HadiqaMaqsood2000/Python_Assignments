{
 "cells": [
  {
   "cell_type": "code",
   "execution_count": 11,
   "metadata": {},
   "outputs": [
    {
     "name": "stdout",
     "output_type": "stream",
     "text": [
      "Dictionary details:  {'first_name': 'Farheen', 'last_name': 'Mughal', 'age': 23, 'city': 'Rawalpindi'}\n",
      "\n",
      "Qualification added:  {'first_name': 'Farheen', 'last_name': 'Mughal', 'age': 23, 'city': 'Rawalpindi', 'qualification': 'BA'}\n",
      "\n",
      "Qualification updated:  {'first_name': 'Farheen', 'last_name': 'Mughal', 'age': 23, 'city': 'Rawalpindi', 'qualification': 'High academic level'}\n",
      "\n",
      "Qualification deleted:  {'first_name': 'Farheen', 'last_name': 'Mughal', 'age': 23, 'city': 'Rawalpindi'}\n"
     ]
    }
   ],
   "source": [
    "# Task 01\n",
    "\n",
    "Person = {\n",
    "    \"first_name\" : \"Farheen\", \n",
    "    \"last_name\" : \"Mughal\",\n",
    "    \"age\" : 23,\n",
    "    \"city\" : \"Rawalpindi\"\n",
    "} \n",
    "\n",
    "print (\"Dictionary details: \",Person)\n",
    "\n",
    "Person [\"qualification\"] = \"BA\"\n",
    "\n",
    "print (\"\\nQualification added: \", Person)\n",
    "\n",
    "Person [\"qualification\"] = \"High academic level\"\n",
    "\n",
    "print (\"\\nQualification updated: \", Person)\n",
    "\n",
    "del Person[\"qualification\"]\n",
    "\n",
    "print (\"\\nQualification deleted: \", Person)"
   ]
  },
  {
   "cell_type": "code",
   "execution_count": 24,
   "metadata": {},
   "outputs": [
    {
     "name": "stdout",
     "output_type": "stream",
     "text": [
      "Name Of Cities: \n",
      " dict_keys(['Hyd', 'Newyork', 'Istanbul'])\n",
      "\n",
      "Information Of Cities:\n",
      "Hyd: {'country': 'Pakistan', 'population': '10 million', 'fact': 'old name is Nerun kot'} \n",
      "Newyork: {'country': 'USA', 'population': '20 million', 'fact': 'City Of lights'} \n",
      "Istanbul {'country': 'Turkey', 'population': '15 million', 'fact': 'City of ancient mosques'}\n"
     ]
    }
   ],
   "source": [
    "# Task 02\n",
    "\n",
    "Cities = {\n",
    "    \"Hyd\" : {\n",
    "        \"country\" : \"Pakistan\",\n",
    "        \"population\" : \"10 million\",\n",
    "        \"fact\" : \"old name is Nerun kot\"        \n",
    "    },           #inner dictionary 01 ends here\n",
    "    \n",
    "    \"Newyork\" : {\n",
    "        \"country\" : \"USA\" ,\n",
    "        \"population\" : \"20 million\",\n",
    "        \"fact\" : \"City Of lights\"        \n",
    "    },           #inner dictionary 02 ends here\n",
    "    \n",
    "    \"Istanbul\" : {\n",
    "        \"country\" : \"Turkey\",\n",
    "        \"population\" : \"15 million\",\n",
    "        \"fact\" : \"City of ancient mosques\"        \n",
    "    }            #inner dictionary 03 ends here\n",
    "} #outer dictionary ends here\n",
    "\n",
    "print (\"Name Of Cities: \\n\",Cities.keys())\n",
    "print (\"\\nInformation Of Cities:\\nHyd:\",Cities[\"Hyd\"],\"\\nNewyork:\",Cities[\"Newyork\"],\"\\nIstanbul\",Cities[\"Istanbul\"])"
   ]
  },
  {
   "cell_type": "code",
   "execution_count": null,
   "metadata": {},
   "outputs": [
    {
     "name": "stdout",
     "output_type": "stream",
     "text": [
      "Your age 1\n",
      "Ticket is free!\n"
     ]
    }
   ],
   "source": [
    "# Task 03\n",
    "\n",
    "name = \"Pakistan is my country\"\n",
    "\n",
    "for loop in name:\n",
    "    age = input(\"Your age \")\n",
    "    age = int(age)\n",
    "    \n",
    "    if age>=0 and age<3:\n",
    "        print (\"Ticket is free!\")\n",
    "    elif age>=3 and age<=12:\n",
    "        print (\"Ticket price is $10\")\n",
    "    elif age>12 and age<100:\n",
    "        print (\"Ticket price is $15\")\n",
    "    else:\n",
    "        print (\"Enter correct age\")\n",
    "    "
   ]
  },
  {
   "cell_type": "code",
   "execution_count": 7,
   "metadata": {},
   "outputs": [
    {
     "name": "stdout",
     "output_type": "stream",
     "text": [
      "Alice in Wonderland\n",
      "One of my favorite books is Alice in Wonderland!\n"
     ]
    }
   ],
   "source": [
    "# Task 04\n",
    "\n",
    "# defining a function \n",
    "def favorite_book(title):\n",
    "    print(title)\n",
    "    print(\"One of my favorite books is Alice in Wonderland!\")\n",
    "\n",
    "# creating a argument\n",
    "book_title = \"Alice in Wonderland\"\n",
    "\n",
    "# calling a function with passing an argument\n",
    "favorite_book(book_title)\n"
   ]
  },
  {
   "cell_type": "code",
   "execution_count": 35,
   "metadata": {},
   "outputs": [
    {
     "name": "stdout",
     "output_type": "stream",
     "text": [
      "Chance1: Guess the number from 1 to 30: 23\n",
      "Chance2: Guess the number from 1 to 30: 21\n",
      "Chance3: Guess the number from 1 to 30: 15\n",
      "The number is:  22\n",
      " You lose !\n"
     ]
    }
   ],
   "source": [
    "# Task 05\n",
    "# Method 1\n",
    "\n",
    "from random import randint\n",
    "\n",
    "for _ in range(1):\n",
    "    chance1 = input(\"Chance1: Guess the number from 1 to 30: \")\n",
    "    chance2 = input(\"Chance2: Guess the number from 1 to 30: \")\n",
    "    chance3 = input(\"Chance3: Guess the number from 1 to 30: \")\n",
    "    value = randint(1, 30)\n",
    "    print(\"The number is: \",value)\n",
    "    \n",
    "    if chance1 or chance2 or chance3 != value:\n",
    "        print(\" You lose !\")\n",
    "    else:\n",
    "        print(\" You win !\")\n",
    "    "
   ]
  },
  {
   "cell_type": "code",
   "execution_count": 5,
   "metadata": {},
   "outputs": [
    {
     "name": "stdout",
     "output_type": "stream",
     "text": [
      "Chance1: Guess the number: 23\n",
      "You are near the number \n",
      "\n",
      "Chance2: Guess the number: 67\n",
      "Number is less than  67\n",
      "\n",
      "Chance3: Guess the number: 31\n",
      "\n",
      "The hidden number is:  9\n",
      "\n",
      "Sorry You lose !\n"
     ]
    }
   ],
   "source": [
    "# Task 05\n",
    "# Method 2\n",
    "\n",
    "from random import randint\n",
    "\n",
    "for _ in range(1):\n",
    "    chance1 = input(\"Chance1: Guess the number: \")\n",
    "    if int(chance1)>30:\n",
    "        print(\"Number is less than \", chance1)\n",
    "    elif int(chance1)<1:\n",
    "        print(\"Number is greater than \", chance1)\n",
    "    else:\n",
    "        print(\"You are near the number \")\n",
    "        \n",
    "    chance2 = input(\"\\nChance2: Guess the number: \")\n",
    "    if int(chance2)>30:\n",
    "        print(\"Number is less than \", chance2)\n",
    "    elif int(chance2)<1:\n",
    "        print(\"Number is greater than \", chance2)\n",
    "    else:\n",
    "        print(\"You are near the number\")\n",
    "        \n",
    "    chance3 = input(\"\\nChance3: Guess the number: \")\n",
    "            \n",
    "    value = randint(1, 30)\n",
    "    print(\"\\nThe hidden number is: \",value)\n",
    "    \n",
    "    if chance1 or chance2 or chance3 != value:\n",
    "        print(\"\\nSorry You lose !\")\n",
    "    else:\n",
    "        print(\"\\nYou win !\")\n"
   ]
  }
 ],
 "metadata": {
  "kernelspec": {
   "display_name": "Python 3",
   "language": "python",
   "name": "python3"
  },
  "language_info": {
   "codemirror_mode": {
    "name": "ipython",
    "version": 3
   },
   "file_extension": ".py",
   "mimetype": "text/x-python",
   "name": "python",
   "nbconvert_exporter": "python",
   "pygments_lexer": "ipython3",
   "version": "3.7.4"
  }
 },
 "nbformat": 4,
 "nbformat_minor": 2
}
