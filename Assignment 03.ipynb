{
 "cells": [
  {
   "cell_type": "code",
   "execution_count": 4,
   "metadata": {},
   "outputs": [
    {
     "name": "stdout",
     "output_type": "stream",
     "text": [
      " *** CALCULATOR *** \n",
      "Enter first value 67\n",
      "Enter second value 3\n",
      "Enter operator: +, -, /, *, ** (power)-\n",
      "Your answer is:  64\n"
     ]
    }
   ],
   "source": [
    "# Task 01\n",
    "print (\" *** CALCULATOR *** \")\n",
    "num1 = input (\"Enter first value \")\n",
    "num2 = input (\"Enter second value \")\n",
    "\n",
    "# converting string value to int datatype\n",
    "num1 = int(num1)\n",
    "num2 = int(num2)\n",
    "\n",
    "sign = input(\"Enter operator: +, -, /, *, ** (power)\")\n",
    "\n",
    "if sign == '+':\n",
    "    ans = num1 + num2\n",
    "    print (\"Your answer is: \", ans)\n",
    "elif sign == '-':\n",
    "    ans = num1 - num2\n",
    "    print (\"Your answer is: \", ans)\n",
    "elif sign == '/':\n",
    "    ans = num1 / num2\n",
    "    print (\"Your answer is: \", ans)\n",
    "elif sign == '*':\n",
    "    ans = num1 * num2\n",
    "    print (\"Your answer is: \", ans)\n",
    "elif sign == '**':\n",
    "    ans = num1 ** num2\n",
    "    print (\"Your answer is: \", ans)\n",
    "else:\n",
    "    print (\"Enter correct operator! \")\n",
    "    "
   ]
  },
  {
   "cell_type": "code",
   "execution_count": 31,
   "metadata": {},
   "outputs": [
    {
     "name": "stdout",
     "output_type": "stream",
     "text": [
      "value exist at index 3\n"
     ]
    }
   ],
   "source": [
    "# Task 02\n",
    "random_list = [\"Hyd\", 400, \"A\", 20, \"Khi\", \"Monday\"]\n",
    "num_val = 20;\n",
    "index = 0\n",
    "index = int(index)\n",
    "\n",
    "for check in random_list:\n",
    "    if check == num_val:\n",
    "        print (\"value exist at index\", index)\n",
    "        break;\n",
    "    index = index + 1;"
   ]
  },
  {
   "cell_type": "code",
   "execution_count": 18,
   "metadata": {},
   "outputs": [
    {
     "name": "stdout",
     "output_type": "stream",
     "text": [
      "{'First Name': 'Hadiqa', 'Last Name': 'Mughal', 'Address': 'Hyd', 'Phone No': 923113288688}\n"
     ]
    }
   ],
   "source": [
    "# Task 03\n",
    "cust_info = {\"First Name\": \"Hadiqa\", \"Last Name\": \"Mughal\", \"Address\": \"Hyd\"} \n",
    "\n",
    "cust_info[\"Phone No\"]= 923113288688\n",
    "print (cust_info)"
   ]
  },
  {
   "cell_type": "code",
   "execution_count": 19,
   "metadata": {},
   "outputs": [
    {
     "name": "stdout",
     "output_type": "stream",
     "text": [
      "Total sum of all numeric values in a list is:  367\n"
     ]
    }
   ],
   "source": [
    "# Task 04\n",
    "\n",
    "St_marks = {\"Ali\": 100, \"Ayesha\": 89, \"Adina\": 92, \"Awais\": 86}\n",
    "print (\"Total sum of all numeric values in a list is: \", sum(St_marks.values()))\n"
   ]
  },
  {
   "cell_type": "code",
   "execution_count": 22,
   "metadata": {},
   "outputs": [
    {
     "name": "stdout",
     "output_type": "stream",
     "text": [
      "list values:  [1, 2, 3, 3, 4, 5, 8, 1, 8, 5]\n",
      "Duplicate values in list are:\n",
      "1\n",
      "3\n",
      "5\n",
      "8\n"
     ]
    }
   ],
   "source": [
    "# Task 05\n",
    "list = [1, 2, 3, 3, 4, 5, 8, 1, 8, 5]\n",
    "print (\"list values: \", list)\n",
    "\n",
    "print (\"Duplicate values in list are:\")\n",
    "for i in range(0, len(list)):\n",
    "    for j in range (i+1, len(list)):\n",
    "        if (list[i]==list[j]):\n",
    "            print (list[j])"
   ]
  },
  {
   "cell_type": "code",
   "execution_count": 28,
   "metadata": {},
   "outputs": [
    {
     "name": "stdout",
     "output_type": "stream",
     "text": [
      "Key already exist!\n"
     ]
    }
   ],
   "source": [
    "# Task 06\n",
    "country_name = {\"Pakistan\": 0, \"England\": 0, \"USA\": 0, \"Switzerland\": 0}\n",
    "key = \"USA\"\n",
    "\n",
    "if key in country_name.keys():\n",
    "    print (\"Key already exist!\")\n",
    "else:\n",
    "    print (\"Key doesnot exist\")\n",
    "    "
   ]
  }
 ],
 "metadata": {
  "kernelspec": {
   "display_name": "Python 3",
   "language": "python",
   "name": "python3"
  },
  "language_info": {
   "codemirror_mode": {
    "name": "ipython",
    "version": 3
   },
   "file_extension": ".py",
   "mimetype": "text/x-python",
   "name": "python",
   "nbconvert_exporter": "python",
   "pygments_lexer": "ipython3",
   "version": "3.7.4"
  }
 },
 "nbformat": 4,
 "nbformat_minor": 2
}
