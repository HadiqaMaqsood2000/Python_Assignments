{
 "cells": [
  {
   "cell_type": "code",
   "execution_count": 16,
   "metadata": {},
   "outputs": [
    {
     "data": {
      "text/plain": [
       "5040"
      ]
     },
     "execution_count": 16,
     "metadata": {},
     "output_type": "execute_result"
    }
   ],
   "source": [
    "#Task 01\n",
    "\n",
    "def recur_factorial(n):\n",
    "   if n == 1:\n",
    "       return n\n",
    "   else:\n",
    "       return n*recur_factorial(n-1)\n",
    "\n",
    "recur_factorial(7)\n"
   ]
  },
  {
   "cell_type": "code",
   "execution_count": 30,
   "metadata": {},
   "outputs": [
    {
     "data": {
      "text/plain": [
       "('Upper case letter: ', 8, ' Lower case letters: ', 11)"
      ]
     },
     "execution_count": 30,
     "metadata": {},
     "output_type": "execute_result"
    }
   ],
   "source": [
    "# Task 02\n",
    "\n",
    "def function(str_val):\n",
    "    countU = 0\n",
    "    countL = 0\n",
    "    for check in str_val:\n",
    "        if (check.isupper()) == True:\n",
    "            countU+= 1\n",
    "        else:\n",
    "            countL+=1\n",
    "    return \"Upper case letter: \", countU, \" Lower case letters: \", countL\n",
    "\n",
    "function(\"PakIsTanIsmYCounTrY\")"
   ]
  },
  {
   "cell_type": "code",
   "execution_count": 18,
   "metadata": {},
   "outputs": [
    {
     "name": "stdout",
     "output_type": "stream",
     "text": [
      "even number:  14\n",
      "even number:  30\n",
      "even number:  62\n",
      "even number:  80\n",
      "even number:  6\n",
      "even number:  10\n",
      "even number:  4\n",
      "even number:  100\n"
     ]
    }
   ],
   "source": [
    "# Task 03\n",
    "\n",
    "num_list = [14, 21, 30, 47, 55, 62, 80, 6, 10, 4, 77, 100]\n",
    "\n",
    "def even_func( list ):\n",
    "    for check in list:\n",
    "        if check % 2 == 0:\n",
    "            print(\"even number: \",check)\n",
    "        else:\n",
    "            continue\n",
    "        \n",
    "even_func(num_list)\n",
    "        "
   ]
  },
  {
   "cell_type": "code",
   "execution_count": 33,
   "metadata": {},
   "outputs": [
    {
     "name": "stdout",
     "output_type": "stream",
     "text": [
      "Is the given word a palindrome? \n",
      "True\n"
     ]
    }
   ],
   "source": [
    "# Task 04\n",
    "\n",
    "def isPalindrome(string):\n",
    "    left_pos = 0\n",
    "    right_pos = len(string) - 1\n",
    "\n",
    "    while right_pos >= left_pos:\n",
    "        if not string[left_pos] == string[right_pos]:\n",
    "            return False\n",
    "        left_pos += 1\n",
    "        right_pos -= 1\n",
    "    return True\n",
    "\n",
    "print(\"Is the given word a palindrome? \")\n",
    "print(isPalindrome('rotor')) "
   ]
  },
  {
   "cell_type": "code",
   "execution_count": 38,
   "metadata": {},
   "outputs": [
    {
     "name": "stdout",
     "output_type": "stream",
     "text": [
      "9  is a prime number? :  False\n"
     ]
    }
   ],
   "source": [
    "#Task 05\n",
    "\n",
    "def check_prime(num):\n",
    "    if (num==1):\n",
    "        return False\n",
    "    elif (num==2):\n",
    "        return True;\n",
    "    else:\n",
    "        for x in range(2,num):\n",
    "            if(num % x==0):\n",
    "                return False\n",
    "        return True\n",
    "\n",
    "number = 9\n",
    "print(number,\" is a prime number? : \",check_prime(number))\n"
   ]
  },
  {
   "cell_type": "code",
   "execution_count": 43,
   "metadata": {},
   "outputs": [
    {
     "name": "stdout",
     "output_type": "stream",
     "text": [
      "Hadiqa  does shopping from  Boulevard Mall\n",
      "she bought: \n",
      "biscuits\n",
      "chips\n",
      "toffess\n",
      "sea food\n",
      "cutlery\n",
      "dishes\n",
      "shoes\n",
      "clothes\n",
      "jewellery\n"
     ]
    }
   ],
   "source": [
    "# Task 06 \n",
    "\n",
    "shopping_list = [\"biscuits\", \"chips\", \"toffess\", \"sea food\", \"cutlery\", \"dishes\", \"shoes\"]\n",
    "\n",
    "def function(name, mall, others, *param):\n",
    "    print(name, \" does shopping from \", mall)\n",
    "    print(\"she bought: \")\n",
    "    for loop in others:\n",
    "        print(loop)\n",
    "    for loop in param:\n",
    "        print(loop)\n",
    "\n",
    "function(\"Hadiqa\", \"Boulevard Mall\", shopping_list, \"clothes\", \"jewellery\")"
   ]
  }
 ],
 "metadata": {
  "kernelspec": {
   "display_name": "Python 3",
   "language": "python",
   "name": "python3"
  },
  "language_info": {
   "codemirror_mode": {
    "name": "ipython",
    "version": 3
   },
   "file_extension": ".py",
   "mimetype": "text/x-python",
   "name": "python",
   "nbconvert_exporter": "python",
   "pygments_lexer": "ipython3",
   "version": "3.7.4"
  }
 },
 "nbformat": 4,
 "nbformat_minor": 2
}
