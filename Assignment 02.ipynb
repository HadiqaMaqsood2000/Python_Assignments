{
 "cells": [
  {
   "cell_type": "code",
   "execution_count": 5,
   "metadata": {},
   "outputs": [
    {
     "name": "stdout",
     "output_type": "stream",
     "text": [
      "\t\t****Marksheet****\n",
      "Marks must be in numeric value and out of 100 for each subject\n",
      "\n",
      "Enter obtained marks in JAVA: 67\n",
      "Enter obtained marks in OOP: 78\n",
      "Enter obtained marks in PhP: 90\n",
      "Enter obtained marks in C: 98\n",
      "Enter obtained marks in HTML: 89\n",
      "\n",
      "Your obtained marks: 422 out of 500\n",
      "\n",
      "Calculating Grade...\n",
      "\n",
      "Your Grade: B+\n"
     ]
    }
   ],
   "source": [
    "# Task 01\n",
    "print (\"\\t\\t****Marksheet****\")\n",
    "print(\"Marks must be in numeric value and out of 100 in each subject\\n\")\n",
    "\n",
    "totalMarks=500\n",
    "java = int(input(\"Enter obtained marks in JAVA: \"))\n",
    "oop = int(input(\"Enter obtained marks in OOP: \"))\n",
    "php = int(input(\"Enter obtained marks in PhP: \"))\n",
    "C = int(input(\"Enter obtained marks in C: \"))\n",
    "html = int(input(\"Enter obtained marks in HTML: \"))\n",
    "\n",
    "\n",
    "sum=java+oop+php+C+html;\n",
    "if sum>=0 and sum<=500:\n",
    "    print (\"\\nYour obtained marks: \"+str(sum)+ \" out of 500\")\n",
    "else:\n",
    "    print(\"\\nWrong Data\"); \n",
    "\n",
    "print (\"\\nCalculating Grade...\\n\")\n",
    "\n",
    "if sum >=4750 and sum <=500:\n",
    "    print(\"Your Grade: A+\")\n",
    "elif sum <450 and sum >=430:\n",
    "    print(\"Your Grade: A\")\n",
    "elif sum<430 and sum>=400:\n",
    "    print(\"Your Grade: B+\")\n",
    "elif sum<400 and sum>=370:\n",
    "    print(\"Your Grade: B\")\n",
    "elif sum<370 and sum>=340:\n",
    "    print(\"Your Grade: C\")\n",
    "elif sum<340 and sum >=310:\n",
    "    print (\"Your Grade: D\")\n",
    "elif sum <310 and sum >=0:\n",
    "    print (\"Fail !\")\n",
    "else:\n",
    "    print(\"-------\")\n"
   ]
  },
  {
   "cell_type": "code",
   "execution_count": 10,
   "metadata": {},
   "outputs": [
    {
     "name": "stdout",
     "output_type": "stream",
     "text": [
      "Enter any number: 45\n",
      "45 is an Odd Number\n"
     ]
    }
   ],
   "source": [
    "# Task 02\n",
    "num = int(input(\"Enter any number: \"))\n",
    "if num%2==0:\n",
    "    print(str(num)+\" is an Even Number\")\n",
    "else:\n",
    "    print(str(num)+\" is an Odd Number\")"
   ]
  },
  {
   "cell_type": "code",
   "execution_count": 11,
   "metadata": {},
   "outputs": [
    {
     "name": "stdout",
     "output_type": "stream",
     "text": [
      "a = [1, 1, 2, 3, 5, 8, 13, 21, 34, 55, 89] \n",
      "\n",
      "The length of the list 'a' is: 9\n"
     ]
    }
   ],
   "source": [
    "# Task 03\n",
    "a = [1, 2, 3, 5, 8, 13, 21, 55, 89] \n",
    "\n",
    "print(\"a = [1, 1, 2, 3, 5, 8, 13, 21, 34, 55, 89] \\n\")\n",
    "print(\"The length of the list 'a' is: \"+ str(len(a)))"
   ]
  },
  {
   "cell_type": "code",
   "execution_count": 2,
   "metadata": {},
   "outputs": [
    {
     "name": "stdout",
     "output_type": "stream",
     "text": [
      "The sum of elements of list:  365\n"
     ]
    }
   ],
   "source": [
    "# Task 04\n",
    "NumberList = [11, 17, 27, 32, 58, 8, 13, 21, 34, 55, 89] \n",
    "Sum= sum(NumberList)\n",
    "print (\"The sum of elements of list: \", Sum)"
   ]
  },
  {
   "cell_type": "code",
   "execution_count": 15,
   "metadata": {},
   "outputs": [
    {
     "name": "stdout",
     "output_type": "stream",
     "text": [
      "numList = [10, 20, 4, 45, 99] \n",
      "\n",
      "Largest element in list is: 99\n"
     ]
    }
   ],
   "source": [
    "# Task 05\n",
    "numList = [10, 20, 4, 45, 99] \n",
    "  \n",
    "# sorting the list \n",
    "numList.sort()\n",
    "\n",
    "# printing the list\n",
    "print (\"numList = [10, 20, 4, 45, 99] \")\n",
    "  \n",
    "# printing the last element \n",
    "print(\"\\nLargest element in list is:\", list1[-1]) "
   ]
  },
  {
   "cell_type": "code",
   "execution_count": 9,
   "metadata": {},
   "outputs": [
    {
     "name": "stdout",
     "output_type": "stream",
     "text": [
      "Numbers less than 5 are: \n",
      "1\n",
      "1\n",
      "2\n",
      "3\n"
     ]
    }
   ],
   "source": [
    "# Task 06\n",
    "a = [1, 1, 2, 3, 5, 8, 13, 21, 34, 55, 89] \n",
    "\n",
    "print (\"Numbers less than 5 are: \")\n",
    "num=0\n",
    "while num<=10:\n",
    "    if a[num]<5:\n",
    "        print(a[num])\n",
    "    num= num+1"
   ]
  }
 ],
 "metadata": {
  "kernelspec": {
   "display_name": "Python 3",
   "language": "python",
   "name": "python3"
  },
  "language_info": {
   "codemirror_mode": {
    "name": "ipython",
    "version": 3
   },
   "file_extension": ".py",
   "mimetype": "text/x-python",
   "name": "python",
   "nbconvert_exporter": "python",
   "pygments_lexer": "ipython3",
   "version": "3.7.4"
  }
 },
 "nbformat": 4,
 "nbformat_minor": 2
}
